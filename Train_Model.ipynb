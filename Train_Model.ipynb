{
 "cells": [
  {
   "cell_type": "code",
   "execution_count": 25,
   "id": "55a59a21",
   "metadata": {},
   "outputs": [],
   "source": [
    "import pickle\n",
    "import pandas as pd"
   ]
  },
  {
   "cell_type": "code",
   "execution_count": 7,
   "id": "a18471b9",
   "metadata": {},
   "outputs": [],
   "source": [
    "traindata=pickle.load(open('EDA_Vehicledata.pkl','rb'))"
   ]
  },
  {
   "cell_type": "code",
   "execution_count": 8,
   "id": "966164d7",
   "metadata": {
    "collapsed": true
   },
   "outputs": [
    {
     "data": {
      "text/html": [
       "<div>\n",
       "<style scoped>\n",
       "    .dataframe tbody tr th:only-of-type {\n",
       "        vertical-align: middle;\n",
       "    }\n",
       "\n",
       "    .dataframe tbody tr th {\n",
       "        vertical-align: top;\n",
       "    }\n",
       "\n",
       "    .dataframe thead th {\n",
       "        text-align: right;\n",
       "    }\n",
       "</style>\n",
       "<table border=\"1\" class=\"dataframe\">\n",
       "  <thead>\n",
       "    <tr style=\"text-align: right;\">\n",
       "      <th></th>\n",
       "      <th>Age</th>\n",
       "      <th>Driving_License</th>\n",
       "      <th>Region_Code</th>\n",
       "      <th>Previously_Insured</th>\n",
       "      <th>Vehicle_Damage_Yes</th>\n",
       "      <th>Annual_Premium</th>\n",
       "      <th>Policy_Sales_Channel</th>\n",
       "      <th>Vintage</th>\n",
       "      <th>Response</th>\n",
       "      <th>Gender</th>\n",
       "      <th>Vehicle_Age_1_2_Years</th>\n",
       "      <th>Vehicle_Age_lt_1_Year</th>\n",
       "      <th>Vehicle_Age_gt_2_Years</th>\n",
       "    </tr>\n",
       "  </thead>\n",
       "  <tbody>\n",
       "    <tr>\n",
       "      <th>0</th>\n",
       "      <td>44</td>\n",
       "      <td>1</td>\n",
       "      <td>28.0</td>\n",
       "      <td>0</td>\n",
       "      <td>0</td>\n",
       "      <td>40454.0</td>\n",
       "      <td>26.0</td>\n",
       "      <td>217</td>\n",
       "      <td>1</td>\n",
       "      <td>1</td>\n",
       "      <td>0</td>\n",
       "      <td>0</td>\n",
       "      <td>1</td>\n",
       "    </tr>\n",
       "    <tr>\n",
       "      <th>1</th>\n",
       "      <td>76</td>\n",
       "      <td>1</td>\n",
       "      <td>3.0</td>\n",
       "      <td>0</td>\n",
       "      <td>1</td>\n",
       "      <td>33536.0</td>\n",
       "      <td>26.0</td>\n",
       "      <td>183</td>\n",
       "      <td>0</td>\n",
       "      <td>1</td>\n",
       "      <td>1</td>\n",
       "      <td>0</td>\n",
       "      <td>0</td>\n",
       "    </tr>\n",
       "    <tr>\n",
       "      <th>2</th>\n",
       "      <td>47</td>\n",
       "      <td>1</td>\n",
       "      <td>28.0</td>\n",
       "      <td>0</td>\n",
       "      <td>0</td>\n",
       "      <td>38294.0</td>\n",
       "      <td>26.0</td>\n",
       "      <td>27</td>\n",
       "      <td>1</td>\n",
       "      <td>1</td>\n",
       "      <td>0</td>\n",
       "      <td>0</td>\n",
       "      <td>1</td>\n",
       "    </tr>\n",
       "    <tr>\n",
       "      <th>3</th>\n",
       "      <td>21</td>\n",
       "      <td>1</td>\n",
       "      <td>11.0</td>\n",
       "      <td>1</td>\n",
       "      <td>1</td>\n",
       "      <td>28619.0</td>\n",
       "      <td>152.0</td>\n",
       "      <td>203</td>\n",
       "      <td>0</td>\n",
       "      <td>1</td>\n",
       "      <td>0</td>\n",
       "      <td>1</td>\n",
       "      <td>0</td>\n",
       "    </tr>\n",
       "    <tr>\n",
       "      <th>4</th>\n",
       "      <td>29</td>\n",
       "      <td>1</td>\n",
       "      <td>41.0</td>\n",
       "      <td>1</td>\n",
       "      <td>1</td>\n",
       "      <td>27496.0</td>\n",
       "      <td>152.0</td>\n",
       "      <td>39</td>\n",
       "      <td>0</td>\n",
       "      <td>0</td>\n",
       "      <td>0</td>\n",
       "      <td>1</td>\n",
       "      <td>0</td>\n",
       "    </tr>\n",
       "    <tr>\n",
       "      <th>...</th>\n",
       "      <td>...</td>\n",
       "      <td>...</td>\n",
       "      <td>...</td>\n",
       "      <td>...</td>\n",
       "      <td>...</td>\n",
       "      <td>...</td>\n",
       "      <td>...</td>\n",
       "      <td>...</td>\n",
       "      <td>...</td>\n",
       "      <td>...</td>\n",
       "      <td>...</td>\n",
       "      <td>...</td>\n",
       "      <td>...</td>\n",
       "    </tr>\n",
       "    <tr>\n",
       "      <th>381104</th>\n",
       "      <td>74</td>\n",
       "      <td>1</td>\n",
       "      <td>26.0</td>\n",
       "      <td>1</td>\n",
       "      <td>1</td>\n",
       "      <td>30170.0</td>\n",
       "      <td>26.0</td>\n",
       "      <td>88</td>\n",
       "      <td>0</td>\n",
       "      <td>1</td>\n",
       "      <td>1</td>\n",
       "      <td>0</td>\n",
       "      <td>0</td>\n",
       "    </tr>\n",
       "    <tr>\n",
       "      <th>381105</th>\n",
       "      <td>30</td>\n",
       "      <td>1</td>\n",
       "      <td>37.0</td>\n",
       "      <td>1</td>\n",
       "      <td>1</td>\n",
       "      <td>40016.0</td>\n",
       "      <td>152.0</td>\n",
       "      <td>131</td>\n",
       "      <td>0</td>\n",
       "      <td>1</td>\n",
       "      <td>0</td>\n",
       "      <td>1</td>\n",
       "      <td>0</td>\n",
       "    </tr>\n",
       "    <tr>\n",
       "      <th>381106</th>\n",
       "      <td>21</td>\n",
       "      <td>1</td>\n",
       "      <td>30.0</td>\n",
       "      <td>1</td>\n",
       "      <td>1</td>\n",
       "      <td>35118.0</td>\n",
       "      <td>160.0</td>\n",
       "      <td>161</td>\n",
       "      <td>0</td>\n",
       "      <td>1</td>\n",
       "      <td>0</td>\n",
       "      <td>1</td>\n",
       "      <td>0</td>\n",
       "    </tr>\n",
       "    <tr>\n",
       "      <th>381107</th>\n",
       "      <td>68</td>\n",
       "      <td>1</td>\n",
       "      <td>14.0</td>\n",
       "      <td>0</td>\n",
       "      <td>0</td>\n",
       "      <td>44617.0</td>\n",
       "      <td>124.0</td>\n",
       "      <td>74</td>\n",
       "      <td>0</td>\n",
       "      <td>0</td>\n",
       "      <td>0</td>\n",
       "      <td>0</td>\n",
       "      <td>1</td>\n",
       "    </tr>\n",
       "    <tr>\n",
       "      <th>381108</th>\n",
       "      <td>46</td>\n",
       "      <td>1</td>\n",
       "      <td>29.0</td>\n",
       "      <td>0</td>\n",
       "      <td>1</td>\n",
       "      <td>41777.0</td>\n",
       "      <td>26.0</td>\n",
       "      <td>237</td>\n",
       "      <td>0</td>\n",
       "      <td>1</td>\n",
       "      <td>1</td>\n",
       "      <td>0</td>\n",
       "      <td>0</td>\n",
       "    </tr>\n",
       "  </tbody>\n",
       "</table>\n",
       "<p>381109 rows × 13 columns</p>\n",
       "</div>"
      ],
      "text/plain": [
       "        Age  Driving_License  Region_Code  Previously_Insured  \\\n",
       "0        44                1         28.0                   0   \n",
       "1        76                1          3.0                   0   \n",
       "2        47                1         28.0                   0   \n",
       "3        21                1         11.0                   1   \n",
       "4        29                1         41.0                   1   \n",
       "...     ...              ...          ...                 ...   \n",
       "381104   74                1         26.0                   1   \n",
       "381105   30                1         37.0                   1   \n",
       "381106   21                1         30.0                   1   \n",
       "381107   68                1         14.0                   0   \n",
       "381108   46                1         29.0                   0   \n",
       "\n",
       "        Vehicle_Damage_Yes  Annual_Premium  Policy_Sales_Channel  Vintage  \\\n",
       "0                        0         40454.0                  26.0      217   \n",
       "1                        1         33536.0                  26.0      183   \n",
       "2                        0         38294.0                  26.0       27   \n",
       "3                        1         28619.0                 152.0      203   \n",
       "4                        1         27496.0                 152.0       39   \n",
       "...                    ...             ...                   ...      ...   \n",
       "381104                   1         30170.0                  26.0       88   \n",
       "381105                   1         40016.0                 152.0      131   \n",
       "381106                   1         35118.0                 160.0      161   \n",
       "381107                   0         44617.0                 124.0       74   \n",
       "381108                   1         41777.0                  26.0      237   \n",
       "\n",
       "        Response  Gender  Vehicle_Age_1_2_Years  Vehicle_Age_lt_1_Year  \\\n",
       "0              1       1                      0                      0   \n",
       "1              0       1                      1                      0   \n",
       "2              1       1                      0                      0   \n",
       "3              0       1                      0                      1   \n",
       "4              0       0                      0                      1   \n",
       "...          ...     ...                    ...                    ...   \n",
       "381104         0       1                      1                      0   \n",
       "381105         0       1                      0                      1   \n",
       "381106         0       1                      0                      1   \n",
       "381107         0       0                      0                      0   \n",
       "381108         0       1                      1                      0   \n",
       "\n",
       "        Vehicle_Age_gt_2_Years  \n",
       "0                            1  \n",
       "1                            0  \n",
       "2                            1  \n",
       "3                            0  \n",
       "4                            0  \n",
       "...                        ...  \n",
       "381104                       0  \n",
       "381105                       0  \n",
       "381106                       0  \n",
       "381107                       1  \n",
       "381108                       0  \n",
       "\n",
       "[381109 rows x 13 columns]"
      ]
     },
     "execution_count": 8,
     "metadata": {},
     "output_type": "execute_result"
    }
   ],
   "source": [
    "traindata"
   ]
  },
  {
   "cell_type": "code",
   "execution_count": null,
   "id": "26f7319c",
   "metadata": {},
   "outputs": [],
   "source": []
  },
  {
   "cell_type": "markdown",
   "id": "5b381d1a",
   "metadata": {},
   "source": [
    "Now let's build a pipeline for preprocessing the categorical features/attributes:"
   ]
  },
  {
   "cell_type": "code",
   "execution_count": 9,
   "id": "bda5331e",
   "metadata": {},
   "outputs": [],
   "source": [
    "# Numerical and categorical columns\n",
    "num_df= ['Age','Vintage']\n",
    "cat_df = ['Gender', 'Driving_License', 'Previously_Insured', 'Vehicle_Age_lt_1_Year',\n",
    "            'Vehicle_Age_gt_2_Years','Vehicle_Damage','Region_Code','Policy_Sales_Channel']"
   ]
  },
  {
   "cell_type": "code",
   "execution_count": 10,
   "id": "54c6c0a7",
   "metadata": {},
   "outputs": [
    {
     "data": {
      "text/plain": [
       "(381109, 12)"
      ]
     },
     "execution_count": 10,
     "metadata": {},
     "output_type": "execute_result"
    }
   ],
   "source": [
    "from sklearn.preprocessing import OrdinalEncoder\n",
    "from sklearn.pipeline import Pipeline\n",
    "from sklearn.impute import SimpleImputer\n",
    "\n",
    "\n",
    "\n",
    "cat_pipeline = Pipeline([\n",
    "        # we will fill the NaNs with the mode\n",
    "        ('imputer', SimpleImputer(strategy=\"most_frequent\")),\n",
    "        # the features has order meaning\n",
    "        ('encoder', OrdinalEncoder()),\n",
    "    ])\n",
    "X=traindata.drop(['Response'], axis = 1)\n",
    "\n",
    "# prepare the df form the ML models by calling the full_pipeline\n",
    "X_prepared = cat_pipeline.fit_transform(X)\n",
    "# inspect the number of rows & columns of the prepared df\n",
    "X_prepared.shape"
   ]
  },
  {
   "cell_type": "markdown",
   "id": "27c870a3",
   "metadata": {},
   "source": [
    "Now let's build a pipeline for preprocessing all the attributes:"
   ]
  },
  {
   "cell_type": "code",
   "execution_count": 11,
   "id": "e929e55d",
   "metadata": {
    "scrolled": true
   },
   "outputs": [
    {
     "data": {
      "text/plain": [
       "Index(['Age', 'Driving_License', 'Region_Code', 'Previously_Insured',\n",
       "       'Vehicle_Damage_Yes', 'Annual_Premium', 'Policy_Sales_Channel',\n",
       "       'Vintage', 'Response', 'Gender', 'Vehicle_Age_1_2_Years',\n",
       "       'Vehicle_Age_lt_1_Year', 'Vehicle_Age_gt_2_Years'],\n",
       "      dtype='object')"
      ]
     },
     "execution_count": 11,
     "metadata": {},
     "output_type": "execute_result"
    }
   ],
   "source": [
    "traindata.columns"
   ]
  },
  {
   "cell_type": "code",
   "execution_count": 244,
   "id": "d97a37a9",
   "metadata": {},
   "outputs": [],
   "source": []
  },
  {
   "cell_type": "code",
   "execution_count": 12,
   "id": "fe76e6d3",
   "metadata": {},
   "outputs": [
    {
     "data": {
      "text/plain": [
       "Pipeline(steps=[('imputer', SimpleImputer(strategy='most_frequent')),\n",
       "                ('encoder', OrdinalEncoder())])"
      ]
     },
     "execution_count": 12,
     "metadata": {},
     "output_type": "execute_result"
    }
   ],
   "source": [
    "cat_pipeline"
   ]
  },
  {
   "cell_type": "code",
   "execution_count": 14,
   "id": "ccd62ac3",
   "metadata": {},
   "outputs": [],
   "source": [
    "from sklearn.preprocessing import LabelEncoder, StandardScaler, MinMaxScaler, RobustScaler\n",
    "ss = StandardScaler()\n",
    "traindata[num_df] = ss.fit_transform(traindata[num_df])\n",
    "\n",
    "\n",
    "mm = MinMaxScaler()\n",
    "traindata[['Annual_Premium']] = mm.fit_transform(traindata[['Annual_Premium']])"
   ]
  },
  {
   "cell_type": "code",
   "execution_count": null,
   "id": "fd6fb83d",
   "metadata": {},
   "outputs": [],
   "source": []
  },
  {
   "cell_type": "code",
   "execution_count": 15,
   "id": "63b03e6c",
   "metadata": {},
   "outputs": [],
   "source": [
    "from sklearn.model_selection import RandomizedSearchCV\n",
    "from sklearn.model_selection import cross_val_score\n",
    "from sklearn.ensemble import RandomForestClassifier\n",
    "# from catboost import CatBoostClassifier\n",
    "from scipy.stats import randint\n",
    "import pickle\n",
    "# import xgboost as xgb\n",
    "# import lightgbm as lgb\n",
    "from sklearn.metrics import accuracy_score\n",
    "# import packages for hyperparameters tuning\n",
    "# from hyperopt import STATUS_OK, Trials, fmin, hp, tpe\n",
    "from sklearn.model_selection import train_test_split, RandomizedSearchCV, StratifiedKFold, KFold, GridSearchCV\n",
    "from sklearn.metrics import f1_score, roc_auc_score,accuracy_score,confusion_matrix, precision_recall_curve, auc, roc_curve, recall_score, classification_report"
   ]
  },
  {
   "cell_type": "code",
   "execution_count": 16,
   "id": "0e43ba67",
   "metadata": {
    "scrolled": true
   },
   "outputs": [],
   "source": [
    "from sklearn.model_selection import train_test_split\n",
    "\n",
    "train_target=traindata['Response']\n",
    "train=traindata.drop(['Response'], axis = 1)\n",
    "x_train,x_test,y_train,y_test = train_test_split(train,train_target, test_size=0.3, random_state = 0)"
   ]
  },
  {
   "cell_type": "code",
   "execution_count": 17,
   "id": "76f20d62",
   "metadata": {},
   "outputs": [
    {
     "data": {
      "text/plain": [
       "((266776, 12), (114333, 12), (266776,), (114333,))"
      ]
     },
     "execution_count": 17,
     "metadata": {},
     "output_type": "execute_result"
    }
   ],
   "source": [
    "x_train.shape ,x_test.shape ,y_train.shape ,y_test.shape"
   ]
  },
  {
   "cell_type": "markdown",
   "id": "c5b7a2ec",
   "metadata": {},
   "source": [
    "# DecisionTreeClassifier"
   ]
  },
  {
   "cell_type": "code",
   "execution_count": 18,
   "id": "2c31981f",
   "metadata": {},
   "outputs": [
    {
     "data": {
      "text/plain": [
       "DecisionTreeClassifier()"
      ]
     },
     "execution_count": 18,
     "metadata": {},
     "output_type": "execute_result"
    }
   ],
   "source": [
    "from sklearn.tree import DecisionTreeClassifier\n",
    "\n",
    "dtc=DecisionTreeClassifier()\n",
    "dtc.fit(x_train,y_train)"
   ]
  },
  {
   "cell_type": "code",
   "execution_count": 19,
   "id": "9a332652",
   "metadata": {},
   "outputs": [],
   "source": [
    "y_pred=dtc.predict(x_test)"
   ]
  },
  {
   "cell_type": "code",
   "execution_count": 22,
   "id": "58e0c4e0",
   "metadata": {},
   "outputs": [],
   "source": [
    "pickle.dump(dtc, open('dtc_model.pkl', 'wb'))"
   ]
  },
  {
   "cell_type": "code",
   "execution_count": 23,
   "id": "cb2709ce",
   "metadata": {
    "collapsed": true
   },
   "outputs": [
    {
     "name": "stdout",
     "output_type": "stream",
     "text": [
      "Accuracy Score:  0.8233755783544559\n",
      "\n",
      "\n",
      "              precision    recall  f1-score   support\n",
      "\n",
      "           0       0.90      0.90      0.90     99393\n",
      "           1       0.31      0.30      0.30     14940\n",
      "\n",
      "    accuracy                           0.82    114333\n",
      "   macro avg       0.60      0.60      0.60    114333\n",
      "weighted avg       0.82      0.82      0.82    114333\n",
      "\n"
     ]
    }
   ],
   "source": [
    "from sklearn.metrics import accuracy_score,classification_report\n",
    "\n",
    "print(\"Accuracy Score: \",accuracy_score(y_pred,y_test))\n",
    "print(\"\\n\")\n",
    "print(classification_report(y_pred,y_test))"
   ]
  },
  {
   "cell_type": "code",
   "execution_count": 26,
   "id": "a1b4e53c",
   "metadata": {},
   "outputs": [
    {
     "data": {
      "text/html": [
       "<div>\n",
       "<style scoped>\n",
       "    .dataframe tbody tr th:only-of-type {\n",
       "        vertical-align: middle;\n",
       "    }\n",
       "\n",
       "    .dataframe tbody tr th {\n",
       "        vertical-align: top;\n",
       "    }\n",
       "\n",
       "    .dataframe thead th {\n",
       "        text-align: right;\n",
       "    }\n",
       "</style>\n",
       "<table border=\"1\" class=\"dataframe\">\n",
       "  <thead>\n",
       "    <tr style=\"text-align: right;\">\n",
       "      <th></th>\n",
       "      <th>Predicted No</th>\n",
       "      <th>Predicted Yes</th>\n",
       "    </tr>\n",
       "  </thead>\n",
       "  <tbody>\n",
       "    <tr>\n",
       "      <th>Actual No</th>\n",
       "      <td>89720</td>\n",
       "      <td>10521</td>\n",
       "    </tr>\n",
       "    <tr>\n",
       "      <th>Actual Yes</th>\n",
       "      <td>9673</td>\n",
       "      <td>4419</td>\n",
       "    </tr>\n",
       "  </tbody>\n",
       "</table>\n",
       "</div>"
      ],
      "text/plain": [
       "            Predicted No  Predicted Yes\n",
       "Actual No          89720          10521\n",
       "Actual Yes          9673           4419"
      ]
     },
     "execution_count": 26,
     "metadata": {},
     "output_type": "execute_result"
    }
   ],
   "source": [
    "pd.DataFrame(confusion_matrix(y_test,y_pred),columns=['Predicted No','Predicted Yes'],index=['Actual No','Actual Yes'])\n"
   ]
  },
  {
   "cell_type": "markdown",
   "id": "f352796e",
   "metadata": {},
   "source": [
    "# Saving the Dtc model to pickle file"
   ]
  },
  {
   "cell_type": "code",
   "execution_count": 27,
   "id": "0aa2b097",
   "metadata": {},
   "outputs": [],
   "source": [
    "with open('dtc_model.pkl', 'wb') as f:\n",
    "    pickle.dump(dtc, f)"
   ]
  },
  {
   "cell_type": "code",
   "execution_count": null,
   "id": "d285d41c",
   "metadata": {},
   "outputs": [],
   "source": []
  },
  {
   "cell_type": "markdown",
   "id": "b830f421",
   "metadata": {},
   "source": [
    "# Checking the acuracy with different models"
   ]
  },
  {
   "cell_type": "code",
   "execution_count": 28,
   "id": "d1c71b20",
   "metadata": {},
   "outputs": [],
   "source": [
    "from sklearn.linear_model import LogisticRegression\n",
    "from sklearn.neighbors import KNeighborsClassifier\n",
    "from sklearn.svm import LinearSVC\n",
    "from sklearn.neural_network import MLPClassifier\n",
    "from sklearn.ensemble import GradientBoostingClassifier"
   ]
  },
  {
   "cell_type": "code",
   "execution_count": 371,
   "id": "493b3394",
   "metadata": {
    "collapsed": true
   },
   "outputs": [
    {
     "name": "stderr",
     "output_type": "stream",
     "text": [
      "D:\\Anaconda\\lib\\site-packages\\sklearn\\linear_model\\_logistic.py:763: ConvergenceWarning: lbfgs failed to converge (status=1):\n",
      "STOP: TOTAL NO. of ITERATIONS REACHED LIMIT.\n",
      "\n",
      "Increase the number of iterations (max_iter) or scale the data as shown in:\n",
      "    https://scikit-learn.org/stable/modules/preprocessing.html\n",
      "Please also refer to the documentation for alternative solver options:\n",
      "    https://scikit-learn.org/stable/modules/linear_model.html#logistic-regression\n",
      "  n_iter_i = _check_optimize_result(\n"
     ]
    },
    {
     "name": "stdout",
     "output_type": "stream",
     "text": [
      "                   Logistic Regression : 87.67%\n",
      "                   K-Nearest Neighbors : 84.08%\n",
      "                         Decision Tree : 82.32%\n",
      "                         Random Forest : 86.58%\n"
     ]
    },
    {
     "name": "stderr",
     "output_type": "stream",
     "text": [
      "D:\\Anaconda\\lib\\site-packages\\sklearn\\svm\\_base.py:985: ConvergenceWarning: Liblinear failed to converge, increase the number of iterations.\n",
      "  warnings.warn(\"Liblinear failed to converge, increase \"\n"
     ]
    },
    {
     "name": "stdout",
     "output_type": "stream",
     "text": [
      "Support Vector Machine (Linear Kernel) : 87.67%\n"
     ]
    },
    {
     "name": "stderr",
     "output_type": "stream",
     "text": [
      "D:\\Anaconda\\lib\\site-packages\\sklearn\\neural_network\\_multilayer_perceptron.py:614: ConvergenceWarning: Stochastic Optimizer: Maximum iterations (200) reached and the optimization hasn't converged yet.\n",
      "  warnings.warn(\n"
     ]
    },
    {
     "name": "stdout",
     "output_type": "stream",
     "text": [
      "                        Neural Network : 87.64%\n",
      "                     Gradient Boosting : 87.67%\n"
     ]
    }
   ],
   "source": [
    "models = {\n",
    "    \"                   Logistic Regression\": LogisticRegression(),\n",
    "    \"                   K-Nearest Neighbors\": KNeighborsClassifier(n_neighbors=3),\n",
    "    \"                         Decision Tree\": DecisionTreeClassifier(),\n",
    "    \"                         Random Forest\": RandomForestClassifier(),\n",
    "    \"Support Vector Machine (Linear Kernel)\": LinearSVC(),\n",
    "    \"                        Neural Network\": MLPClassifier(),\n",
    "    \"                     Gradient Boosting\": GradientBoostingClassifier()\n",
    "                                   \n",
    "}\n",
    "\n",
    "for name, model in models.items():\n",
    "    model.fit(x_train, y_train)\n",
    "    y_pred = model.predict(x_test)\n",
    "\n",
    "    print(name + \" : {:.2f}%\".format(accuracy_score(y_pred,y_test)*100))"
   ]
  },
  {
   "cell_type": "code",
   "execution_count": 372,
   "id": "9fc8f60f",
   "metadata": {},
   "outputs": [],
   "source": []
  },
  {
   "cell_type": "code",
   "execution_count": null,
   "id": "88e0e08d",
   "metadata": {},
   "outputs": [],
   "source": []
  },
  {
   "cell_type": "markdown",
   "id": "6c2eb580",
   "metadata": {},
   "source": [
    "# So the more best model is from Logistic Regression and Random Forest Classifier as their accuracy is more.\n",
    "Lets build the model using Random Forest Classifier."
   ]
  },
  {
   "cell_type": "code",
   "execution_count": 29,
   "id": "1fd6e87c",
   "metadata": {},
   "outputs": [
    {
     "data": {
      "text/plain": [
       "RandomForestClassifier()"
      ]
     },
     "execution_count": 29,
     "metadata": {},
     "output_type": "execute_result"
    }
   ],
   "source": [
    "model=RandomForestClassifier()\n",
    "model.fit(x_train,y_train)"
   ]
  },
  {
   "cell_type": "code",
   "execution_count": 30,
   "id": "75115dcf",
   "metadata": {
    "collapsed": true
   },
   "outputs": [
    {
     "name": "stdout",
     "output_type": "stream",
     "text": [
      "Classification Report is:\n",
      "               precision    recall  f1-score   support\n",
      "\n",
      "           0       0.89      0.97      0.93    100241\n",
      "           1       0.36      0.12      0.18     14092\n",
      "\n",
      "    accuracy                           0.87    114333\n",
      "   macro avg       0.62      0.54      0.55    114333\n",
      "weighted avg       0.82      0.87      0.83    114333\n",
      "\n",
      "Confusion Matrix:\n",
      "             Predicted No  Predicted Yes\n",
      "Actual No          97250           2991\n",
      "Actual Yes         12404           1688\n",
      "\n",
      "Training Score:  86.5349461660238\n",
      "\n",
      " Mean Squared Error:  0.13465053833976193\n",
      "\n",
      " R2 score is:  -0.24604368176073477 \n",
      "\n",
      "{'bootstrap': True, 'ccp_alpha': 0.0, 'class_weight': None, 'criterion': 'gini', 'max_depth': None, 'max_features': 'auto', 'max_leaf_nodes': None, 'max_samples': None, 'min_impurity_decrease': 0.0, 'min_impurity_split': None, 'min_samples_leaf': 1, 'min_samples_split': 2, 'min_weight_fraction_leaf': 0.0, 'n_estimators': 100, 'n_jobs': None, 'oob_score': False, 'random_state': None, 'verbose': 0, 'warm_start': False}\n",
      "\n",
      "Accuracy Score:   86.5349461660238\n"
     ]
    }
   ],
   "source": [
    "from sklearn.metrics import mean_absolute_error,mean_squared_error,confusion_matrix,r2_score,accuracy_score\n",
    "y_pred=model.predict(x_test)\n",
    "print(\"Classification Report is:\\n\",classification_report(y_test,y_pred))\n",
    "print(\"Confusion Matrix:\\n\" , pd.DataFrame(confusion_matrix(y_test,y_pred),columns=['Predicted No','Predicted Yes'],index=['Actual No','Actual Yes']))\n",
    "print(\"\\nTraining Score: \",model.score(x_test,y_test)*100)\n",
    "print(\"\\n Mean Squared Error: \",mean_squared_error(y_test,y_pred))\n",
    "print(\"\\n R2 score is: \",r2_score(y_test,y_pred), \"\\n\")\n",
    "print(model.get_params())\n",
    "print(\"\\nAccuracy Score:  \", accuracy_score(y_test,y_pred)*100)\n",
    "\n"
   ]
  },
  {
   "cell_type": "code",
   "execution_count": null,
   "id": "502d97c8",
   "metadata": {},
   "outputs": [],
   "source": []
  },
  {
   "cell_type": "markdown",
   "id": "26196ed1",
   "metadata": {},
   "source": [
    "# Saving the  RandomForest Model"
   ]
  },
  {
   "cell_type": "code",
   "execution_count": 31,
   "id": "e1eff8cc",
   "metadata": {},
   "outputs": [],
   "source": [
    "with open('model.pkl', 'wb') as f:\n",
    "    pickle.dump(model, f)"
   ]
  },
  {
   "cell_type": "code",
   "execution_count": null,
   "id": "f5da2703",
   "metadata": {},
   "outputs": [],
   "source": []
  },
  {
   "cell_type": "code",
   "execution_count": null,
   "id": "2bee7d6b",
   "metadata": {},
   "outputs": [],
   "source": []
  }
 ],
 "metadata": {
  "kernelspec": {
   "display_name": "Python 3 (ipykernel)",
   "language": "python",
   "name": "python3"
  },
  "language_info": {
   "codemirror_mode": {
    "name": "ipython",
    "version": 3
   },
   "file_extension": ".py",
   "mimetype": "text/x-python",
   "name": "python",
   "nbconvert_exporter": "python",
   "pygments_lexer": "ipython3",
   "version": "3.9.7"
  }
 },
 "nbformat": 4,
 "nbformat_minor": 5
}
